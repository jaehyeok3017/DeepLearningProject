{
 "cells": [
  {
   "cell_type": "code",
   "execution_count": 1,
   "metadata": {},
   "outputs": [
    {
     "name": "stderr",
     "output_type": "stream",
     "text": [
      "c:\\Users\\user\\AppData\\Local\\Programs\\Python\\Python310\\lib\\site-packages\\torchvision\\models\\detection\\anchor_utils.py:63: UserWarning: Failed to initialize NumPy: module compiled against API version 0x10 but this version of numpy is 0xf (Triggered internally at  ..\\torch\\csrc\\utils\\tensor_numpy.cpp:68.)\n",
      "  device: torch.device = torch.device(\"cpu\"),\n"
     ]
    }
   ],
   "source": [
    "from keras.models import Sequential\n",
    "from sklearn.model_selection import train_test_split\n",
    "\n",
    "import os\n",
    "import torch\n",
    "import torchvision\n",
    "import torchvision.transforms as transforms\n",
    "import matplotlib.pyplot as plt\n",
    "import numpy as np\n",
    "\n",
    "from torchvision import datasets\n",
    "import glob"
   ]
  },
  {
   "cell_type": "code",
   "execution_count": 2,
   "metadata": {},
   "outputs": [],
   "source": [
    "def imshow(inp, title=None):\n",
    "    inp = inp.numpy().transpose((1, 2, 0))\n",
    "    mean = np.array([0.485, 0.456, 0.406])\n",
    "    std = np.array([0.229, 0.224, 0.225])\n",
    "    inp = std * inp + mean\n",
    "    inp = np.clip(inp, 0, 1)\n",
    "    plt.imshow(inp)\n",
    "    if title is not None:\n",
    "        plt.title(title)\n",
    "    plt.pause(0.001)"
   ]
  },
  {
   "cell_type": "code",
   "execution_count": 3,
   "metadata": {},
   "outputs": [],
   "source": [
    "data_dir = \"./data\"\n",
    "categories = []"
   ]
  },
  {
   "cell_type": "code",
   "execution_count": 4,
   "metadata": {},
   "outputs": [],
   "source": [
    "for i in range(1, 101):\n",
    "    categories.append(f\"{i}\")"
   ]
  },
  {
   "cell_type": "code",
   "execution_count": 5,
   "metadata": {},
   "outputs": [
    {
     "name": "stdout",
     "output_type": "stream",
     "text": [
      "['1', '2', '3', '4', '5', '6', '7', '8', '9', '10', '11', '12', '13', '14', '15', '16', '17', '18', '19', '20', '21', '22', '23', '24', '25', '26', '27', '28', '29', '30', '31', '32', '33', '34', '35', '36', '37', '38', '39', '40', '41', '42', '43', '44', '45', '46', '47', '48', '49', '50', '51', '52', '53', '54', '55', '56', '57', '58', '59', '60', '61', '62', '63', '64', '65', '66', '67', '68', '69', '70', '71', '72', '73', '74', '75', '76', '77', '78', '79', '80', '81', '82', '83', '84', '85', '86', '87', '88', '89', '90', '91', '92', '93', '94', '95', '96', '97', '98', '99', '100']\n"
     ]
    }
   ],
   "source": [
    "print(categories)"
   ]
  },
  {
   "cell_type": "code",
   "execution_count": 6,
   "metadata": {},
   "outputs": [
    {
     "name": "stdout",
     "output_type": "stream",
     "text": [
      "1  :  ./data/1\\1_0_0_20161219140623097.jpg.chip.jpg\n",
      "1  :  ./data/1\\1_1_0_20170109190936410.jpg.chip.jpg\n",
      "2  :  ./data/2\\2_0_0_20161219154008997.jpg.chip.jpg\n",
      "3  :  ./data/3\\3_0_0_20161219154520213.jpg.chip.jpg\n",
      "4  :  ./data/4\\4_0_0_20161219192808843.jpg.chip.jpg\n",
      "5  :  ./data/5\\5_0_0_20170103205053570.jpg.chip.jpg\n",
      "6  :  ./data/6\\6_0_0_20170110213109002.jpg.chip.jpg\n",
      "7  :  ./data/7\\7_0_0_20161219201514284.jpg.chip.jpg\n",
      "8  :  ./data/8\\8_0_0_20170103200436055.jpg.chip.jpg\n",
      "9  :  ./data/9\\9_0_0_20170102235106821.jpg.chip.jpg\n",
      "10  :  ./data/10\\10_0_0_20161220222308131.jpg.chip.jpg\n",
      "11  :  ./data/11\\11_0_0_20170103200509559.jpg.chip.jpg\n",
      "12  :  ./data/12\\12_0_0_20170103200900511.jpg.chip.jpg\n",
      "13  :  ./data/13\\13_0_0_20170103200413990.jpg.chip.jpg\n",
      "14  :  ./data/14\\14_0_0_20170102234323550.jpg.chip.jpg\n",
      "15  :  ./data/15\\15_0_0_20170102234355667.jpg.chip.jpg\n",
      "16  :  ./data/16\\16_0_0_20170102234641453.jpg.chip.jpg\n",
      "17  :  ./data/17\\17_0_0_20170103201439825.jpg.chip.jpg\n",
      "18  :  ./data/18\\18_0_0_20170103201308008.jpg.chip.jpg\n",
      "19  :  ./data/19\\19_0_0_20170102233014401.jpg.chip.jpg\n",
      "20  :  ./data/20\\20_0_0_20170104020603909.jpg.chip.jpg\n",
      "21  :  ./data/21\\21_0_0_20170102233225196.jpg.chip.jpg\n",
      "22  :  ./data/22\\22_0_0_20170103180152583.jpg.chip.jpg\n",
      "23  :  ./data/23\\23_0_0_20170104004006925.jpg.chip.jpg\n",
      "24  :  ./data/24\\24_0_0_20170102233329675.jpg.chip.jpg\n",
      "24  :  ./data/24\\24_1_3_20170104231344873.jpg.chip.jpg\n",
      "25  :  ./data/25\\25_0_0_20170102233320979.jpg.chip.jpg\n",
      "25  :  ./data/25\\25_1_3_20170119195859404.jpg.chip.jpg\n",
      "26  :  ./data/26\\26_0_0_20170102233359482.jpg.chip.jpg\n",
      "26  :  ./data/26\\26_0_3_20170117153400030.jpg.chip.jpg\n",
      "26  :  ./data/26\\26_1_1_20170116155758186.jpg.chip.jpg\n",
      "26  :  ./data/26\\26_1_3_20170119193152594.jpg.chip.jpg\n",
      "27  :  ./data/27\\27_0_0_20170102233409115.jpg.chip.jpg\n",
      "28  :  ./data/28\\28_0_0_20170102233520314.jpg.chip.jpg\n",
      "28  :  ./data/28\\28_1_1_20170117183617983.jpg.chip.jpg\n",
      "29  :  ./data/29\\29_0_0_20170102233617277.jpg.chip.jpg\n",
      "30  :  ./data/30\\30_0_0_20170103181149464.jpg.chip.jpg\n",
      "30  :  ./data/30\\30_1_4_20170103181233632.jpg.chip.jpg\n",
      "31  :  ./data/31\\31_0_0_20170103183951893.jpg.chip.jpg\n",
      "32  :  ./data/32\\32_0_0_20170103182544874.jpg.chip.jpg\n",
      "33  :  ./data/33\\33_0_0_20170104165103473.jpg.chip.jpg\n",
      "34  :  ./data/34\\34_0_0_20170103182629265.jpg.chip.jpg\n",
      "35  :  ./data/35\\35_0_0_20170103182703466.jpg.chip.jpg\n",
      "35  :  ./data/35\\35_1_1_20170112215312112.jpg.chip.jpg\n",
      "36  :  ./data/36\\36_0_0_20170103180815064.jpg.chip.jpg\n",
      "37  :  ./data/37\\37_0_0_20170102233603627.jpg.chip.jpg\n",
      "38  :  ./data/38\\38_0_0_20170103183142330.jpg.chip.jpg\n",
      "39  :  ./data/39\\39_0_0_20170103183230555.jpg.chip.jpg\n",
      "40  :  ./data/40\\40_0_0_20170103182925914.jpg.chip.jpg\n",
      "41  :  ./data/41\\41_0_0_20170104165442057.jpg.chip.jpg\n",
      "42  :  ./data/42\\42_0_0_20170103181301064.jpg.chip.jpg\n",
      "43  :  ./data/43\\43_0_0_20170103183345633.jpg.chip.jpg\n",
      "44  :  ./data/44\\44_0_0_20170104183723462.jpg.chip.jpg\n",
      "45  :  ./data/45\\45_0_0_20170104000913421.jpg.chip.jpg\n",
      "46  :  ./data/46\\46_0_0_20170103183413994.jpg.chip.jpg\n",
      "47  :  ./data/47\\47_0_0_20170103183440186.jpg.chip.jpg\n",
      "48  :  ./data/48\\48_0_0_20170104182220669.jpg.chip.jpg\n",
      "49  :  ./data/49\\49_0_0_20170103182824970.jpg.chip.jpg\n",
      "50  :  ./data/50\\50_0_0_20170103183532811.jpg.chip.jpg\n",
      "51  :  ./data/51\\51_0_0_20170104174529739.jpg.chip.jpg\n",
      "52  :  ./data/52\\52_0_0_20170103183600794.jpg.chip.jpg\n",
      "53  :  ./data/53\\53_0_0_20170104184152541.jpg.chip.jpg\n",
      "54  :  ./data/54\\54_0_0_20170104002216792.jpg.chip.jpg\n",
      "55  :  ./data/55\\55_0_0_20170104184424541.jpg.chip.jpg\n",
      "56  :  ./data/56\\56_0_0_20170104182229743.jpg.chip.jpg\n",
      "57  :  ./data/57\\57_0_0_20170103183943554.jpg.chip.jpg\n",
      "58  :  ./data/58\\58_0_0_20170104002241806.jpg.chip.jpg\n",
      "59  :  ./data/59\\59_0_0_20170104002111294.jpg.chip.jpg\n",
      "60  :  ./data/60\\60_0_0_20170103182716210.jpg.chip.jpg\n",
      "61  :  ./data/61\\61_0_0_20170103181621665.jpg.chip.jpg\n",
      "62  :  ./data/62\\62_0_0_20170104170229321.jpg.chip.jpg\n",
      "63  :  ./data/63\\63_0_0_20170102233622267.jpg.chip.jpg\n",
      "64  :  ./data/64\\64_0_0_20170104183732293.jpg.chip.jpg\n",
      "65  :  ./data/65\\65_0_0_20170103183632050.jpg.chip.jpg\n",
      "66  :  ./data/66\\66_0_0_20170104002319293.jpg.chip.jpg\n",
      "67  :  ./data/67\\67_0_0_20170103184144627.jpg.chip.jpg\n",
      "68  :  ./data/68\\68_0_0_20170104184637742.jpg.chip.jpg\n",
      "69  :  ./data/69\\69_0_0_20170104184543900.jpg.chip.jpg\n",
      "70  :  ./data/70\\70_0_0_20170104185838254.jpg.chip.jpg\n",
      "71  :  ./data/71\\71_0_0_20170104185305424.jpg.chip.jpg\n",
      "72  :  ./data/72\\72_0_0_20170104213613429.jpg.chip.jpg\n",
      "73  :  ./data/73\\73_0_0_20170104213653518.jpg.chip.jpg\n",
      "74  :  ./data/74\\74_0_0_20170111203046542.jpg.chip.jpg\n",
      "75  :  ./data/75\\75_0_0_20170111200151404.jpg.chip.jpg\n",
      "76  :  ./data/76\\76_0_0_20170104213515132.jpg.chip.jpg\n",
      "77  :  ./data/77\\77_0_0_20170109015126245.jpg.chip.jpg\n",
      "78  :  ./data/78\\78_0_0_20170111171747679.jpg.chip.jpg\n",
      "79  :  ./data/79\\79_0_0_20170111200506756.jpg.chip.jpg\n",
      "80  :  ./data/80\\80_0_0_20170105175505310.jpg.chip.jpg\n",
      "81  :  ./data/81\\81_0_0_20170111201206317.jpg.chip.jpg\n",
      "82  :  ./data/82\\82_0_0_20170111205943203.jpg.chip.jpg\n",
      "83  :  ./data/83\\83_0_0_20170111211106903.jpg.chip.jpg\n",
      "84  :  ./data/84\\84_0_0_20170111211153326.jpg.chip.jpg\n",
      "85  :  ./data/85\\85_0_0_20170110181953748.jpg.chip.jpg\n",
      "86  :  ./data/86\\86_0_0_20170111210513628.jpg.chip.jpg\n",
      "87  :  ./data/87\\87_0_0_20170110183538244.jpg.chip.jpg\n",
      "88  :  ./data/88\\88_0_0_20170111210626829.jpg.chip.jpg\n",
      "89  :  ./data/89\\89_0_0_20170111205835604.jpg.chip.jpg\n",
      "90  :  ./data/90\\90_0_0_20170110175833643.jpg.chip.jpg\n",
      "91  :  ./data/91\\91_0_1_20170117194736477.jpg.chip.jpg\n",
      "92  :  ./data/92\\92_0_0_20170111223719595.jpg.chip.jpg\n",
      "93  :  ./data/93\\93_1_0_20170110141221528.jpg.chip.jpg\n",
      "95  :  ./data/95\\95_1_0_20170110175711811.jpg.chip.jpg\n",
      "96  :  ./data/96\\96_1_0_20170110161321170.jpg.chip.jpg\n",
      "99  :  ./data/99\\99_0_0_20170117195137161.jpg.chip.jpg\n",
      "100  :  ./data/100\\100_0_0_20170112213500903.jpg.chip.jpg\n"
     ]
    }
   ],
   "source": [
    "from PIL import Image\n",
    "\n",
    "num_classes = len(categories)\n",
    "\n",
    "image_w = 224\n",
    "image_h = 224\n",
    "\n",
    "pixels = image_w * image_h * 3\n",
    "\n",
    "x = []\n",
    "y = []\n",
    "\n",
    "for idx, category in enumerate(categories):\n",
    "    label = [0 for i in range(num_classes)]\n",
    "    label[idx] = 1\n",
    "\n",
    "    image_dir = data_dir + \"/\" + category\n",
    "    files = glob.glob(image_dir + \"/*.jpg\")\n",
    "\n",
    "    for i,f in enumerate(files):\n",
    "        img = Image.open(f)\n",
    "        img = img.convert(\"RGB\")\n",
    "        img = img.resize((image_w, image_h))\n",
    "        data = np.asarray(img)\n",
    "\n",
    "        x.append(data)\n",
    "        y.append(label)\n",
    "\n",
    "        if i % 700 == 0:\n",
    "            print(category, \" : \", f)"
   ]
  },
  {
   "cell_type": "code",
   "execution_count": 7,
   "metadata": {},
   "outputs": [
    {
     "name": "stdout",
     "output_type": "stream",
     "text": [
      "ok 23685\n"
     ]
    }
   ],
   "source": [
    "x = np.array(x)\n",
    "y = np.array(y)\n",
    "\n",
    "x_train, x_test, y_train, y_test = train_test_split(x, y, test_size = 0.3)\n",
    "xy = (x_train, x_test, y_train, y_test)\n",
    "\n",
    "x_train = x_train.astype(float) / 255\n",
    "x_test = x_test.astype(float) / 255"
   ]
  },
  {
   "cell_type": "code",
   "execution_count": 23,
   "metadata": {},
   "outputs": [],
   "source": [
    "from keras.layers import Input, Conv2D, Activation, MaxPool2D, Dropout, Flatten, Dense\n",
    "from keras.optimizers import Adam\n",
    "from keras.models import Model\n",
    "\n",
    "input = Input(shape=(224, 224, 3))\n",
    "\n",
    "cnn1 = Conv2D(128, kernel_size=3, activation='relu')(input)\n",
    "cnn1 = Conv2D(128, kernel_size=3, activation='relu')(cnn1)\n",
    "cnn1 = Conv2D(128, kernel_size=3, activation='relu')(cnn1)\n",
    "cnn1 = MaxPool2D(pool_size=3, strides=2)(cnn1)\n",
    "\n",
    "cnn2 = Conv2D(128, kernel_size=3, activation='relu')(cnn1)\n",
    "cnn2 = Conv2D(128, kernel_size=3, activation='relu')(cnn2)\n",
    "cnn2 = Conv2D(128, kernel_size=3, activation='relu')(cnn2)\n",
    "cnn2 = MaxPool2D(pool_size=3, strides=2)(cnn2)\n",
    "\n",
    "cnn3 = Conv2D(256, kernel_size=3, activation='relu')(cnn2)\n",
    "cnn3 = Conv2D(256, kernel_size=3, activation='relu')(cnn3)\n",
    "cnn3 = Conv2D(256, kernel_size=3, activation='relu')(cnn3)\n",
    "cnn3 = MaxPool2D(pool_size=3, strides=2)(cnn3)\n",
    "\n",
    "cnn4 = Conv2D(512, kernel_size=3, activation='relu')(cnn3)\n",
    "cnn4 = Conv2D(512, kernel_size=3, activation='relu')(cnn4)\n",
    "cnn4 = Conv2D(512, kernel_size=3, activation='relu')(cnn4)\n",
    "cnn4 = MaxPool2D(pool_size=3, strides=2)(cnn4)\n",
    "\n",
    "dense = Flatten()(cnn4)\n",
    "dense = Dropout(0.2)(dense)\n",
    "dense = Dense(1024, activation='relu')(dense)\n",
    "dense = Dense(1024, activation='relu')(dense)\n",
    "\n",
    "output = Dense(1, activation='linear', name='age')(dense)\n",
    "\n",
    "model = Model(input, output)\n",
    "model.compile(optimizer=Adam(0.0001), loss='mse', metrics=['mae'])"
   ]
  },
  {
   "cell_type": "code",
   "execution_count": 24,
   "metadata": {},
   "outputs": [
    {
     "name": "stdout",
     "output_type": "stream",
     "text": [
      "Model: \"model_1\"\n",
      "_________________________________________________________________\n",
      " Layer (type)                Output Shape              Param #   \n",
      "=================================================================\n",
      " input_2 (InputLayer)        [(None, 224, 224, 3)]     0         \n",
      "                                                                 \n",
      " conv2d_12 (Conv2D)          (None, 222, 222, 128)     3584      \n",
      "                                                                 \n",
      " conv2d_13 (Conv2D)          (None, 220, 220, 128)     147584    \n",
      "                                                                 \n",
      " conv2d_14 (Conv2D)          (None, 218, 218, 128)     147584    \n",
      "                                                                 \n",
      " max_pooling2d_4 (MaxPooling  (None, 108, 108, 128)    0         \n",
      " 2D)                                                             \n",
      "                                                                 \n",
      " conv2d_15 (Conv2D)          (None, 106, 106, 128)     147584    \n",
      "                                                                 \n",
      " conv2d_16 (Conv2D)          (None, 104, 104, 128)     147584    \n",
      "                                                                 \n",
      " conv2d_17 (Conv2D)          (None, 102, 102, 128)     147584    \n",
      "                                                                 \n",
      " max_pooling2d_5 (MaxPooling  (None, 50, 50, 128)      0         \n",
      " 2D)                                                             \n",
      "                                                                 \n",
      " conv2d_18 (Conv2D)          (None, 48, 48, 256)       295168    \n",
      "                                                                 \n",
      " conv2d_19 (Conv2D)          (None, 46, 46, 256)       590080    \n",
      "                                                                 \n",
      " conv2d_20 (Conv2D)          (None, 44, 44, 256)       590080    \n",
      "                                                                 \n",
      " max_pooling2d_6 (MaxPooling  (None, 21, 21, 256)      0         \n",
      " 2D)                                                             \n",
      "                                                                 \n",
      " conv2d_21 (Conv2D)          (None, 19, 19, 512)       1180160   \n",
      "                                                                 \n",
      " conv2d_22 (Conv2D)          (None, 17, 17, 512)       2359808   \n",
      "                                                                 \n",
      " conv2d_23 (Conv2D)          (None, 15, 15, 512)       2359808   \n",
      "                                                                 \n",
      " max_pooling2d_7 (MaxPooling  (None, 7, 7, 512)        0         \n",
      " 2D)                                                             \n",
      "                                                                 \n",
      " flatten_1 (Flatten)         (None, 25088)             0         \n",
      "                                                                 \n",
      " dropout_1 (Dropout)         (None, 25088)             0         \n",
      "                                                                 \n",
      " dense_2 (Dense)             (None, 1024)              25691136  \n",
      "                                                                 \n",
      " dense_3 (Dense)             (None, 1024)              1049600   \n",
      "                                                                 \n",
      " age (Dense)                 (None, 1)                 1025      \n",
      "                                                                 \n",
      "=================================================================\n",
      "Total params: 34,858,369\n",
      "Trainable params: 34,858,369\n",
      "Non-trainable params: 0\n",
      "_________________________________________________________________\n"
     ]
    }
   ],
   "source": [
    "model.summary()"
   ]
  },
  {
   "cell_type": "code",
   "execution_count": 17,
   "metadata": {},
   "outputs": [
    {
     "name": "stdout",
     "output_type": "stream",
     "text": [
      "Physical devices cannot be modified after being initialized\n"
     ]
    }
   ],
   "source": [
    "import tensorflow as tf\n",
    "\n",
    "import os\n",
    "os.environ[\"CUDA_VISIBLE_DEVICES\"] = \"-1\"\n",
    "\n",
    "gpus = tf.config.experimental.list_physical_devices('GPU')\n",
    "if gpus:\n",
    "    try:\n",
    "    # Currently, memory growth needs to be the same across GPUs\n",
    "        for gpu in gpus:\n",
    "            tf.config.experimental.set_memory_growth(gpu, True)\n",
    "        logical_gpus = tf.config.experimental.list_logical_devices('GPU')\n",
    "        print(len(gpus), \"Physical GPUs,\", len(logical_gpus), \"Logical GPUs\")\n",
    "        \n",
    "    except RuntimeError as e:\n",
    "        # Memory growth must be set before GPUs have been initialized\n",
    "        print(e)"
   ]
  },
  {
   "cell_type": "code",
   "execution_count": 26,
   "metadata": {},
   "outputs": [
    {
     "ename": "RuntimeError",
     "evalue": "Physical devices cannot be modified after being initialized",
     "output_type": "error",
     "traceback": [
      "\u001b[1;31m---------------------------------------------------------------------------\u001b[0m",
      "\u001b[1;31mRuntimeError\u001b[0m                              Traceback (most recent call last)",
      "\u001b[1;32mc:\\Users\\user\\Desktop\\AI\\DeepLearningProject\\model\\model.ipynb 셀 11\u001b[0m in \u001b[0;36m<cell line: 3>\u001b[1;34m()\u001b[0m\n\u001b[0;32m      <a href='vscode-notebook-cell:/c%3A/Users/user/Desktop/AI/DeepLearningProject/model/model.ipynb#X13sZmlsZQ%3D%3D?line=0'>1</a>\u001b[0m \u001b[39mimport\u001b[39;00m \u001b[39mtensorflow\u001b[39;00m \u001b[39mas\u001b[39;00m \u001b[39mtf\u001b[39;00m\n\u001b[0;32m      <a href='vscode-notebook-cell:/c%3A/Users/user/Desktop/AI/DeepLearningProject/model/model.ipynb#X13sZmlsZQ%3D%3D?line=1'>2</a>\u001b[0m physical_devices \u001b[39m=\u001b[39m tf\u001b[39m.\u001b[39mconfig\u001b[39m.\u001b[39mlist_physical_devices(\u001b[39m'\u001b[39m\u001b[39mGPU\u001b[39m\u001b[39m'\u001b[39m)\n\u001b[1;32m----> <a href='vscode-notebook-cell:/c%3A/Users/user/Desktop/AI/DeepLearningProject/model/model.ipynb#X13sZmlsZQ%3D%3D?line=2'>3</a>\u001b[0m tf\u001b[39m.\u001b[39;49mconfig\u001b[39m.\u001b[39;49mexperimental\u001b[39m.\u001b[39;49mset_memory_growth(physical_devices[\u001b[39m0\u001b[39;49m], \u001b[39mTrue\u001b[39;49;00m)\n\u001b[0;32m      <a href='vscode-notebook-cell:/c%3A/Users/user/Desktop/AI/DeepLearningProject/model/model.ipynb#X13sZmlsZQ%3D%3D?line=4'>5</a>\u001b[0m model\u001b[39m.\u001b[39mfit(x_train, y_train, batch_size\u001b[39m=\u001b[39m\u001b[39m30\u001b[39m, epochs\u001b[39m=\u001b[39m\u001b[39m5000\u001b[39m)\n",
      "File \u001b[1;32mc:\\Users\\user\\AppData\\Local\\Programs\\Python\\Python310\\lib\\site-packages\\tensorflow\\python\\framework\\config.py:716\u001b[0m, in \u001b[0;36mset_memory_growth\u001b[1;34m(device, enable)\u001b[0m\n\u001b[0;32m    691\u001b[0m \u001b[39m@tf_export\u001b[39m(\u001b[39m'\u001b[39m\u001b[39mconfig.experimental.set_memory_growth\u001b[39m\u001b[39m'\u001b[39m)\n\u001b[0;32m    692\u001b[0m \u001b[39mdef\u001b[39;00m \u001b[39mset_memory_growth\u001b[39m(device, enable):\n\u001b[0;32m    693\u001b[0m   \u001b[39m\"\"\"Set if memory growth should be enabled for a `PhysicalDevice`.\u001b[39;00m\n\u001b[0;32m    694\u001b[0m \n\u001b[0;32m    695\u001b[0m \u001b[39m  If memory growth is enabled for a `PhysicalDevice`, the runtime initialization\u001b[39;00m\n\u001b[1;32m   (...)\u001b[0m\n\u001b[0;32m    714\u001b[0m \u001b[39m    RuntimeError: Runtime is already initialized.\u001b[39;00m\n\u001b[0;32m    715\u001b[0m \u001b[39m  \"\"\"\u001b[39;00m\n\u001b[1;32m--> 716\u001b[0m   context\u001b[39m.\u001b[39;49mcontext()\u001b[39m.\u001b[39;49mset_memory_growth(device, enable)\n",
      "File \u001b[1;32mc:\\Users\\user\\AppData\\Local\\Programs\\Python\\Python310\\lib\\site-packages\\tensorflow\\python\\eager\\context.py:1649\u001b[0m, in \u001b[0;36mContext.set_memory_growth\u001b[1;34m(self, dev, enable)\u001b[0m\n\u001b[0;32m   1646\u001b[0m   \u001b[39mreturn\u001b[39;00m\n\u001b[0;32m   1648\u001b[0m \u001b[39mif\u001b[39;00m \u001b[39mself\u001b[39m\u001b[39m.\u001b[39m_context_handle \u001b[39mis\u001b[39;00m \u001b[39mnot\u001b[39;00m \u001b[39mNone\u001b[39;00m:\n\u001b[1;32m-> 1649\u001b[0m   \u001b[39mraise\u001b[39;00m \u001b[39mRuntimeError\u001b[39;00m(\n\u001b[0;32m   1650\u001b[0m       \u001b[39m\"\u001b[39m\u001b[39mPhysical devices cannot be modified after being initialized\u001b[39m\u001b[39m\"\u001b[39m)\n\u001b[0;32m   1652\u001b[0m \u001b[39mself\u001b[39m\u001b[39m.\u001b[39m_memory_growth_map[dev] \u001b[39m=\u001b[39m enable\n",
      "\u001b[1;31mRuntimeError\u001b[0m: Physical devices cannot be modified after being initialized"
     ]
    }
   ],
   "source": [
    "import tensorflow as tf\n",
    "physical_devices = tf.config.list_physical_devices('GPU')\n",
    "tf.config.experimental.set_memory_growth(physical_devices[0], True)\n",
    "\n",
    "model.fit(x_train, y_train, validation_data=(x_test, y_test), batch_size=50, epochs=10000)"
   ]
  }
 ],
 "metadata": {
  "kernelspec": {
   "display_name": "Python 3.10.3 64-bit",
   "language": "python",
   "name": "python3"
  },
  "language_info": {
   "codemirror_mode": {
    "name": "ipython",
    "version": 3
   },
   "file_extension": ".py",
   "mimetype": "text/x-python",
   "name": "python",
   "nbconvert_exporter": "python",
   "pygments_lexer": "ipython3",
   "version": "3.10.3"
  },
  "orig_nbformat": 4,
  "vscode": {
   "interpreter": {
    "hash": "fb4569285eef3a3450cb62085a5b1e0da4bce0af555edc33dcf29baf3acc1368"
   }
  }
 },
 "nbformat": 4,
 "nbformat_minor": 2
}
